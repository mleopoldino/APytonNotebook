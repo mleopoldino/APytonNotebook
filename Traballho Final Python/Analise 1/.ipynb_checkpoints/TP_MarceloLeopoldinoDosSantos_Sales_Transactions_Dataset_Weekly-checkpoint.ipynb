{
 "cells": [
  {
   "cell_type": "markdown",
   "id": "60dedd38",
   "metadata": {
    "id": "60dedd38"
   },
   "source": [
    "#Grupo:\n",
    "\n",
    "*   Marcelo Leopoldino dos Santos\n",
    "*   Ramon Leôncio\n",
    "\n",
    "\n",
    "## Análise 1\n",
    "\n",
    "\n",
    "Utilize a fonte de dados Sales_Transactions_Dataset_Weekly.csv fornecida no exercicio. Considerando que este banco de dados contém o valor de transações em vendas de alguns produtos durante 52 semanas.\n",
    "\n",
    "Colunas do Banco de Dados:\n",
    "\n",
    "*   Product_Code: código do produto\n",
    "*   W[0-51]: valor de transação da semana\n",
    "\n",
    "Realizar os seguintes processos de análises:\n",
    "\n",
    "1. Transforme o data frame do formato wide para long\n",
    "(Aplicar função para transformar o dado W[0-51] em dia da semana disponibilizada no arquivo week_day.py)\n",
    "2. Escolha três produtos (de forma aleatória; pode utilizar semente) e construa um gráfico com o valor de transação de cada um dos produtos selecionados ao longo do tempo.\n",
    "3. Por produto calcule a diferença entre as semanas e gere um gráfico da série\n",
    "temporal da diferença ao longo das semanas.\n",
    "4. Calcule as descritivas de cada produto (média, desvio-padrão, mínimo, mediana, máximo)\n",
    "5. Calcule a média móvel de cada 3 semanas e gere um gráfico contendo as médias\n",
    "móveis de um produto.\n"
   ]
  },
  {
   "cell_type": "code",
   "execution_count": 4,
   "id": "16716634",
   "metadata": {
    "colab": {
     "base_uri": "https://localhost:8080/",
     "height": 408
    },
    "executionInfo": {
     "elapsed": 495,
     "status": "error",
     "timestamp": 1698236927811,
     "user": {
      "displayName": "Marcelo Leopoldino",
      "userId": "10327306393799737618"
     },
     "user_tz": 180
    },
    "id": "16716634",
    "outputId": "f2edcf52-21cc-481f-e8fc-33b3bf11e6d5"
   },
   "outputs": [
    {
     "ename": "ModuleNotFoundError",
     "evalue": "No module named 'week_day'",
     "output_type": "error",
     "traceback": [
      "\u001b[0;31m---------------------------------------------------------------------------\u001b[0m",
      "\u001b[0;31mModuleNotFoundError\u001b[0m                       Traceback (most recent call last)",
      "Cell \u001b[0;32mIn[4], line 12\u001b[0m\n\u001b[1;32m      9\u001b[0m df_long \u001b[38;5;241m=\u001b[39m df\u001b[38;5;241m.\u001b[39mmelt(id_vars\u001b[38;5;241m=\u001b[39m\u001b[38;5;124m\"\u001b[39m\u001b[38;5;124mProduct_Code\u001b[39m\u001b[38;5;124m\"\u001b[39m, var_name\u001b[38;5;241m=\u001b[39m\u001b[38;5;124m\"\u001b[39m\u001b[38;5;124mWeek\u001b[39m\u001b[38;5;124m\"\u001b[39m, value_name\u001b[38;5;241m=\u001b[39m\u001b[38;5;124m\"\u001b[39m\u001b[38;5;124mTransaction_Value\u001b[39m\u001b[38;5;124m\"\u001b[39m)\n\u001b[1;32m     11\u001b[0m \u001b[38;5;66;03m# Aplicar função para transformar o dado W[0-51] em dia da semana\u001b[39;00m\n\u001b[0;32m---> 12\u001b[0m \u001b[38;5;28;01mfrom\u001b[39;00m \u001b[38;5;21;01mweek_day\u001b[39;00m \u001b[38;5;28;01mimport\u001b[39;00m week_to_day\n",
      "\u001b[0;31mModuleNotFoundError\u001b[0m: No module named 'week_day'"
     ]
    }
   ],
   "source": [
    "## Item 1\n",
    "\n",
    "import pandas as pd\n",
    "\n",
    "# Carregar os dados\n",
    "df = pd.read_csv(\"Sales_Transactions_Dataset_Weekly.csv\")\n",
    "\n",
    "# Transformar o data frame do formato wide para long\n",
    "df_long = df.melt(id_vars=\"Product_Code\", var_name=\"Week\", value_name=\"Transaction_Value\")\n",
    "\n",
    "# Aplicar função para transformar o dado W[0-51] em dia da semana\n",
    "from week_day import week_to_day\n",
    "df_long[\"Week_Day\"] = df_long[\"Week\"].apply(week_to_day)"
   ]
  },
  {
   "cell_type": "code",
   "execution_count": null,
   "id": "6dfd5399",
   "metadata": {},
   "outputs": [],
   "source": []
  }
 ],
 "metadata": {
  "colab": {
   "provenance": []
  },
  "kernelspec": {
   "display_name": "Python 3 (ipykernel)",
   "language": "python",
   "name": "python3"
  },
  "language_info": {
   "codemirror_mode": {
    "name": "ipython",
    "version": 3
   },
   "file_extension": ".py",
   "mimetype": "text/x-python",
   "name": "python",
   "nbconvert_exporter": "python",
   "pygments_lexer": "ipython3",
   "version": "3.11.4"
  }
 },
 "nbformat": 4,
 "nbformat_minor": 5
}
