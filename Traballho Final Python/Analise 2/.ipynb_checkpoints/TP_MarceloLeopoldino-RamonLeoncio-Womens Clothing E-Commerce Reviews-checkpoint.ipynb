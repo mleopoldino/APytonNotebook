{
 "cells": [
  {
   "cell_type": "markdown",
   "id": "60dedd38",
   "metadata": {
    "id": "60dedd38"
   },
   "source": [
    "#Grupo:\n",
    "\n",
    "*   Marcelo Leopoldino dos Santos\n",
    "*   Ramon Leôncio\n",
    "\n",
    "\n",
    "## Análise 2\n",
    "\n",
    "\n",
    "Fonte de dados:\n",
    "Womens Clothing E-Commerce Reviews.csv\n",
    "\n",
    "Este banco de dados contém review de produtos de e-commerce de vestuário feminino.\n",
    "\n",
    "Colunas:\n",
    "Review text: texto da review\n",
    "RecommendedIND: variável binária onde 1 indica que a pessoa recomenda o produto e 0 caso contrário.\n",
    "\n",
    "Realize os seguintes processos de análises:"
   ]
  },
  {
   "cell_type": "markdown",
   "id": "qk44D2SVZOcO",
   "metadata": {
    "id": "qk44D2SVZOcO"
   },
   "source": [
    "1- Calcule a distribuição da variável de recomendação (RecommendedIND)"
   ]
  },
  {
   "cell_type": "code",
   "execution_count": 2,
   "id": "16716634",
   "metadata": {
    "colab": {
     "base_uri": "https://localhost:8080/",
     "height": 1000
    },
    "executionInfo": {
     "elapsed": 2697,
     "status": "ok",
     "timestamp": 1698716197809,
     "user": {
      "displayName": "Marcelo Leopoldino",
      "userId": "10327306393799737618"
     },
     "user_tz": 180
    },
    "id": "16716634",
    "outputId": "4837f891-57cd-4969-9466-9dd5babf0642"
   },
   "outputs": [
    {
     "name": "stdout",
     "output_type": "stream",
     "text": [
      "   Unnamed: 0  Clothing ID  Age                    Title  \\\n",
      "0           0          767   33                      NaN   \n",
      "1           1         1080   34                      NaN   \n",
      "2           2         1077   60  Some major design flaws   \n",
      "3           3         1049   50         My favorite buy!   \n",
      "4           4          847   47         Flattering shirt   \n",
      "\n",
      "                                         Review Text  Rating  Recommended IND  \\\n",
      "0  Absolutely wonderful - silky and sexy and comf...       4                1   \n",
      "1  Love this dress!  it's sooo pretty.  i happene...       5                1   \n",
      "2  I had such high hopes for this dress and reall...       3                0   \n",
      "3  I love, love, love this jumpsuit. it's fun, fl...       5                1   \n",
      "4  This shirt is very flattering to all due to th...       5                1   \n",
      "\n",
      "   Positive Feedback Count   Division Name Department Name Class Name  \n",
      "0                        0       Initmates        Intimate  Intimates  \n",
      "1                        4         General         Dresses    Dresses  \n",
      "2                        0         General         Dresses    Dresses  \n",
      "3                        0  General Petite         Bottoms      Pants  \n",
      "4                        6         General            Tops    Blouses  \n",
      "Distribuição da variável Recommended IND:\n",
      "1    82.236226\n",
      "0    17.763774\n",
      "Name: Recommended IND, dtype: float64\n"
     ]
    },
    {
     "data": {
      "image/png": "[encoded data removed]",
      "text/plain": [
       "<Figure size 800x600 with 1 Axes>"
      ]
     },
     "metadata": {},
     "output_type": "display_data"
    }
   ],
   "source": [
    "## Analise 2\n",
    "\n",
    "#Exercicio 1\n",
    "\n",
    "import pandas as pd\n",
    "import matplotlib.pyplot as plt\n",
    "from os import chdir # Comentar caso não utilize o Colab\n",
    "\n",
    "#Acesso as pastas do GDrive\n",
    "#from google.colab import drive #Comentar caso não utilize o Colab\n",
    "#drive.mount('/content/gdrive') #Comentar caso não utilize o Colab\n",
    "\n",
    "#Importando o arquivo\n",
    "#Configurando caminho de acesso as pastas do GDrive no Colab (adicionar o caminho completo)\n",
    "#chdir('/content/gdrive/My Drive/University/PUC-MG/IA/Python/Notebooks/Analise2') #Comentar caso não utilize o Colab\n",
    "df = pd.read_csv('Womens Clothing E-Commerce Reviews.csv') #Se não utilizar o Colab colocar o arquivo CSV e o script  week_day.py no mesmo diretorio\n",
    "\n",
    "# Verificar as primeiras linhas do dataframe para se certificar de que foi carregado corretamente\n",
    "print(df.head())\n",
    "\n",
    "# Calcular a distribuição da variável de recomendação\n",
    "distribution = df['Recommended IND'].value_counts(normalize=True) * 100\n",
    "\n",
    "print(\"Distribuição da variável Recommended IND:\")\n",
    "print(distribution)\n",
    "\n",
    "# Configurar o gráfico\n",
    "plt.figure(figsize=(8,6))\n",
    "distribution.plot(kind='bar', color=['salmon', 'lightgreen'])\n",
    "plt.title('Distribuição da variável Recommended IND')\n",
    "plt.xlabel('Recomendação')\n",
    "plt.ylabel('Porcentagem (%)')\n",
    "plt.xticks([0,1], ['Não Recomendado', 'Recomendado'], rotation=0)  # Renomear as labels do eixo x\n",
    "plt.tight_layout()\n",
    "\n",
    "# Exibir o gráfico\n",
    "plt.show()\n",
    "\n",
    "\n"
   ]
  },
  {
   "cell_type": "markdown",
   "id": "57liRn7hX-W-",
   "metadata": {
    "id": "57liRn7hX-W-"
   },
   "source": [
    "2- Construa uma função para normalizar o texto (passar tudo para minúsculo e remover espaços duplos) e aplique ao texto (ReviewText)"
   ]
  },
  {
   "cell_type": "code",
   "execution_count": 3,
   "id": "WpfMi88LYM9B",
   "metadata": {
    "colab": {
     "base_uri": "https://localhost:8080/"
    },
    "executionInfo": {
     "elapsed": 275,
     "status": "ok",
     "timestamp": 1698715934286,
     "user": {
      "displayName": "Marcelo Leopoldino",
      "userId": "10327306393799737618"
     },
     "user_tz": 180
    },
    "id": "WpfMi88LYM9B",
    "outputId": "40b3967b-cb2e-488b-c0b6-bf2d5082a9e4"
   },
   "outputs": [
    {
     "name": "stdout",
     "output_type": "stream",
     "text": [
      "   Unnamed: 0  Clothing ID  Age                    Title  \\\n",
      "0           0          767   33                      NaN   \n",
      "1           1         1080   34                      NaN   \n",
      "2           2         1077   60  Some major design flaws   \n",
      "3           3         1049   50         My favorite buy!   \n",
      "4           4          847   47         Flattering shirt   \n",
      "\n",
      "                                         Review Text  Rating  Recommended IND  \\\n",
      "0  absolutely wonderful - silky and sexy and comf...       4                1   \n",
      "1  love this dress! it's sooo pretty. i happened ...       5                1   \n",
      "2  i had such high hopes for this dress and reall...       3                0   \n",
      "3  i love, love, love this jumpsuit. it's fun, fl...       5                1   \n",
      "4  this shirt is very flattering to all due to th...       5                1   \n",
      "\n",
      "   Positive Feedback Count   Division Name Department Name Class Name  \n",
      "0                        0       Initmates        Intimate  Intimates  \n",
      "1                        4         General         Dresses    Dresses  \n",
      "2                        0         General         Dresses    Dresses  \n",
      "3                        0  General Petite         Bottoms      Pants  \n",
      "4                        6         General            Tops    Blouses  \n"
     ]
    }
   ],
   "source": [
    "#Exercicio 2\n",
    "\n",
    "# Função para normalizar o texto\n",
    "def normalize_text(text):\n",
    "    if pd.isnull(text):  # Verifica se o texto é NaN (pode haver valores faltantes)\n",
    "        return text\n",
    "    text = text.lower()  # Converte o texto para minúsculo\n",
    "    text = ' '.join(text.split())  # Remove espaços duplos ou múltiplos\n",
    "    return text\n",
    "\n",
    "# Aplicar a função de normalização na coluna Review text\n",
    "df['Review Text'] = df['Review Text'].apply(normalize_text)\n",
    "\n",
    "# Verificar as primeiras linhas do dataframe após a normalização\n",
    "print(df.head())\n",
    "\n"
   ]
  },
  {
   "cell_type": "markdown",
   "id": "32q3v_PnYYcw",
   "metadata": {
    "id": "32q3v_PnYYcw"
   },
   "source": [
    "3- Crie um wordcloud para as frases em que a recomendação do produto é 1\n",
    "\n",
    "TEXTO NORMALIZADO PARA 3 E 4"
   ]
  },
  {
   "cell_type": "code",
   "execution_count": 5,
   "id": "yZUMzfJMYpIN",
   "metadata": {
    "colab": {
     "base_uri": "https://localhost:8080/",
     "height": 422
    },
    "executionInfo": {
     "elapsed": 3300,
     "status": "ok",
     "timestamp": 1698715940733,
     "user": {
      "displayName": "Marcelo Leopoldino",
      "userId": "10327306393799737618"
     },
     "user_tz": 180
    },
    "id": "yZUMzfJMYpIN",
    "outputId": "34c85ca8-c1a5-4b07-d0c0-d37d80565912"
   },
   "outputs": [
    {
     "ename": "ModuleNotFoundError",
     "evalue": "No module named 'wordcloud'",
     "output_type": "error",
     "traceback": [
      "\u001b[0;31m---------------------------------------------------------------------------\u001b[0m",
      "\u001b[0;31mModuleNotFoundError\u001b[0m                       Traceback (most recent call last)",
      "Cell \u001b[0;32mIn[5], line 3\u001b[0m\n\u001b[1;32m      1\u001b[0m \u001b[38;5;66;03m#Exercicio 3\u001b[39;00m\n\u001b[0;32m----> 3\u001b[0m \u001b[38;5;28;01mfrom\u001b[39;00m \u001b[38;5;21;01mwordcloud\u001b[39;00m \u001b[38;5;28;01mimport\u001b[39;00m WordCloud\n\u001b[1;32m      5\u001b[0m \u001b[38;5;66;03m# Filtrar as linhas onde RecommendedIND é 1 e concatenar todas as revisões em uma string\u001b[39;00m\n\u001b[1;32m      6\u001b[0m recommended_texts \u001b[38;5;241m=\u001b[39m \u001b[38;5;124m'\u001b[39m\u001b[38;5;124m \u001b[39m\u001b[38;5;124m'\u001b[39m\u001b[38;5;241m.\u001b[39mjoin(df[df[\u001b[38;5;124m'\u001b[39m\u001b[38;5;124mRecommended IND\u001b[39m\u001b[38;5;124m'\u001b[39m] \u001b[38;5;241m==\u001b[39m \u001b[38;5;241m1\u001b[39m][\u001b[38;5;124m'\u001b[39m\u001b[38;5;124mReview Text\u001b[39m\u001b[38;5;124m'\u001b[39m]\u001b[38;5;241m.\u001b[39mdropna())\n",
      "\u001b[0;31mModuleNotFoundError\u001b[0m: No module named 'wordcloud'"
     ]
    }
   ],
   "source": [
    "#Exercicio 3\n",
    "\n",
    "from wordcloud import WordCloud\n",
    "\n",
    "# Filtrar as linhas onde RecommendedIND é 1 e concatenar todas as revisões em uma string\n",
    "recommended_texts = ' '.join(df[df['Recommended IND'] == 1]['Review Text'].dropna())\n",
    "\n",
    "# Criar a wordcloud\n",
    "wordcloud = WordCloud(width=800, height=400, background_color='white').generate(recommended_texts)\n",
    "\n",
    "# Plotar a wordcloud\n",
    "plt.figure(figsize=(10, 5))\n",
    "plt.imshow(wordcloud, interpolation='bilinear')\n",
    "plt.axis('off')\n",
    "plt.show()"
   ]
  },
  {
   "cell_type": "markdown",
   "id": "9QSfqK9YYsUG",
   "metadata": {
    "id": "9QSfqK9YYsUG"
   },
   "source": [
    "4- Crie um dataframe contendo o número de frases em que uma palavra aparece. As\n",
    "colunas são:\n",
    "\n",
    "a. Palavra: a palavra identificada\n",
    "b. Valor: número de frases com a palavra.\n",
    "\n",
    "TEXTO NORMALIZADO PARA 3 E 4"
   ]
  },
  {
   "cell_type": "code",
   "execution_count": 15,
   "id": "viMNjVboY1oM",
   "metadata": {
    "colab": {
     "base_uri": "https://localhost:8080/"
    },
    "executionInfo": {
     "elapsed": 698,
     "status": "ok",
     "timestamp": 1698715944671,
     "user": {
      "displayName": "Marcelo Leopoldino",
      "userId": "10327306393799737618"
     },
     "user_tz": 180
    },
    "id": "viMNjVboY1oM",
    "outputId": "1e67f8a8-e7ee-4436-de8e-7b538c89ad0f"
   },
   "outputs": [
    {
     "name": "stdout",
     "output_type": "stream",
     "text": [
      "              Palavra  Valor\n",
      "37                the  19676\n",
      "6                 and  19504\n",
      "29                  i  18913\n",
      "39                  a  17741\n",
      "41               this  16295\n",
      "...               ...    ...\n",
      "22724              eu      1\n",
      "22723     equivalent.      1\n",
      "22722          wrecks      1\n",
      "22721  ultra-comfort.      1\n",
      "37719        platinum      1\n",
      "\n",
      "[37720 rows x 2 columns]\n"
     ]
    }
   ],
   "source": [
    "#Exercicio 4\n",
    "\n",
    "\n",
    "# Dicionário para armazenar contagem de frases por palavra\n",
    "word_count = {}\n",
    "\n",
    "# Iterar por cada frase e contar quantas vezes cada palavra aparece\n",
    "for review in df['Review Text']:\n",
    "    if isinstance(review, str):  # Adicionar essa linha para verificar se 'review' é uma string\n",
    "        unique_words_in_review = set(review.split())\n",
    "        for word in unique_words_in_review:\n",
    "            word_count[word] = word_count.get(word, 0) + 1\n",
    "\n",
    "\n",
    "# Criar dataframe com os resultados\n",
    "word_df = pd.DataFrame(list(word_count.items()), columns=['Palavra', 'Valor'])\n",
    "word_df = word_df.sort_values(by='Valor', ascending=False)  # Ordenar por contagem de frases\n",
    "\n",
    "print(word_df)\n"
   ]
  },
  {
   "cell_type": "markdown",
   "id": "PGCa1bc-Y8wu",
   "metadata": {
    "id": "PGCa1bc-Y8wu"
   },
   "source": [
    "5- Obtenha as 5 palavras mais frequentes nos textos (utilize o dataframe criado no processo 4)."
   ]
  },
  {
   "cell_type": "code",
   "execution_count": 17,
   "id": "zPpfhCrvZEqL",
   "metadata": {
    "colab": {
     "base_uri": "https://localhost:8080/",
     "height": 607
    },
    "executionInfo": {
     "elapsed": 509,
     "status": "ok",
     "timestamp": 1698716087659,
     "user": {
      "displayName": "Marcelo Leopoldino",
      "userId": "10327306393799737618"
     },
     "user_tz": 180
    },
    "id": "zPpfhCrvZEqL",
    "outputId": "50ef6d04-7d82-4d6e-f216-5801cc7e525a"
   },
   "outputs": [
    {
     "data": {
      "image/png": "[encoded data removed]",
      "text/plain": [
       "<Figure size 1000x600 with 1 Axes>"
      ]
     },
     "metadata": {},
     "output_type": "display_data"
    }
   ],
   "source": [
    "#Exercicio 5\n",
    "\n",
    "top_5_words = word_df.head(5)\n",
    "print(top_5_words)\n",
    "\n",
    "# Configurar o gráfico\n",
    "plt.figure(figsize=(10,6))\n",
    "plt.bar(top_5_words['Palavra'], top_5_words['Valor'], color='skyblue')\n",
    "plt.title('Top 5 Palavras Mais Frequentes')\n",
    "plt.xlabel('Palavras')\n",
    "plt.ylabel('Número de Frases')\n",
    "plt.xticks(rotation=45)\n",
    "plt.tight_layout()\n",
    "\n",
    "# Exibir o gráfico\n",
    "plt.show()\n",
    "\n"
   ]
  }
 ],
 "metadata": {
  "colab": {
   "provenance": []
  },
  "kernelspec": {
   "display_name": "Python 3 (ipykernel)",
   "language": "python",
   "name": "python3"
  },
  "language_info": {
   "codemirror_mode": {
    "name": "ipython",
    "version": 3
   },
   "file_extension": ".py",
   "mimetype": "text/x-python",
   "name": "python",
   "nbconvert_exporter": "python",
   "pygments_lexer": "ipython3",
   "version": "3.11.4"
  }
 },
 "nbformat": 4,
 "nbformat_minor": 5
}
