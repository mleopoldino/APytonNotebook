{
 "cells": [
  {
   "cell_type": "markdown",
   "id": "60dedd38",
   "metadata": {},
   "source": [
    "# Exercício 1\n",
    "\n",
    "\n",
    "O dataset Titanic disponível no pacote seaborn contém dados dos passageiros do Titanic. Os campos presente no Dataset são:\n",
    "\n",
    "\n",
    "1. survived: variável binária (1 se sobreviveu ou 0 contrario)\n",
    "2. pclass: classe do ticket\n",
    "3. sex: sexo do passageiro\n",
    "4. age: idade em anos completos\n",
    "5. sibsp: número de irmãos/cônjuges a bordo do navio\n",
    "6. parch: número de pais/filhos a bordo do navio\n",
    "7. fare: tarifa da passagem\n",
    "8. embarked: porto de embarque (C=Cherbour, Q=Queenstown, S=Southampton)\n",
    "\n",
    "\n",
    "Faça as análises a seguir:\n",
    "1. Construa um boxplot com a distribuição da idade para os pacientes que sobreviveram e não sobreviveram. \n",
    "2. Construa um gráfico de barras que mostre o número de passageiros que sobreviveu e não sobreviveu por classe.\n",
    "3. Construa um scatter plot mostrando a relação entre tarifa e idade; a cor de cada ponto deve ser referente a classe.\n",
    "\n",
    "Dicas para as análises:\n",
    "\n",
    "2. Para construir o gráfico construa uma tabela intermediária onde os índices são as classes e as colunas sobreviveu ou não."
   ]
  },
  {
   "cell_type": "code",
   "execution_count": null,
   "id": "22a48d9e",
   "metadata": {},
   "outputs": [],
   "source": [
    "%pip install seaborn"
   ]
  },
  {
   "cell_type": "code",
   "execution_count": null,
   "id": "7c0dc5fe",
   "metadata": {},
   "outputs": [],
   "source": [
    "import pandas as pd\n",
    "import seaborn as sns\n",
    "titanic = sns.load_dataset('titanic')"
   ]
  },
  {
   "cell_type": "code",
   "execution_count": null,
   "id": "12102da8",
   "metadata": {},
   "outputs": [],
   "source": [
    "## Analise 1"
   ]
  },
  {
   "cell_type": "code",
   "execution_count": null,
   "id": "16716634",
   "metadata": {},
   "outputs": [],
   "source": [
    "## Analise 2"
   ]
  },
  {
   "cell_type": "code",
   "execution_count": null,
   "id": "48b9b636",
   "metadata": {},
   "outputs": [],
   "source": [
    "## Analise 3"
   ]
  }
 ],
 "metadata": {
  "kernelspec": {
   "display_name": "Python 3 (ipykernel)",
   "language": "python",
   "name": "python3"
  },
  "language_info": {
   "codemirror_mode": {
    "name": "ipython",
    "version": 3
   },
   "file_extension": ".py",
   "mimetype": "text/x-python",
   "name": "python",
   "nbconvert_exporter": "python",
   "pygments_lexer": "ipython3",
   "version": "3.10.8"
  }
 },
 "nbformat": 4,
 "nbformat_minor": 5
}
