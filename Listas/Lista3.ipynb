{
 "cells": [
  {
   "cell_type": "markdown",
   "id": "28d166dc",
   "metadata": {},
   "source": [
    "# Exercício 1\n",
    "\n",
    "O dataset Titanic disponível no pacote seaborn contém dados dos passageiros do Titanic. Os campos presente no Dataset são:\n",
    "\n",
    "1. survived: variável binária (1 se sobreviveu ou 0 contrario)\n",
    "2. pclass: classe do ticket\n",
    "3. sex: sexo do passageiro\n",
    "4. age: idade em anos completos\n",
    "5. sibsp: número de irmãos/cônjuges a bordo do navio\n",
    "6. parch: número de pais/filhos a bordo do navio\n",
    "7. fare: tarifa da passagem\n",
    "8. embarked: porto de embarque (C=Cherbour, Q=Queenstown, S=Southampton)\n",
    "\n",
    "\n",
    "Faça as análises a seguir:\n",
    "1. Calcule o percentual de sobreviventes para cada classe\n",
    "2. Crie uma nova coluna com o seguinte intervalos de idade:\n",
    "* Idade menores que 18 anos categorizados como 0 (idade < 18)\n",
    "* Idade entre 18 e 30 anos categorizados como 1 (18 <= idade < 30)\n",
    "* Idade entre 30 e 50 anos categorizados como 2 (30 <= idade < 50)\n",
    "* Idade maior que 50 categorizados como 3 (50<= idade)\n",
    "3. Calcule o percentual de sobrevivente de cada uma das categorias de idade"
   ]
  },
  {
   "cell_type": "code",
   "execution_count": null,
   "id": "ec0e77bc",
   "metadata": {},
   "outputs": [],
   "source": [
    "###IMPORTANTE RODE OS PRÓXIMOS DOIS COMANDOS PARA ACESSAR O BANCO#####"
   ]
  },
  {
   "cell_type": "code",
   "execution_count": null,
   "id": "5fdff5e0",
   "metadata": {},
   "outputs": [],
   "source": [
    "%pip install seaborn"
   ]
  },
  {
   "cell_type": "code",
   "execution_count": null,
   "id": "f18e331a",
   "metadata": {},
   "outputs": [],
   "source": [
    "import pandas as pd\n",
    "import seaborn as sns\n",
    "titanic = sns.load_dataset('titanic')"
   ]
  },
  {
   "cell_type": "code",
   "execution_count": null,
   "id": "f5a30726",
   "metadata": {},
   "outputs": [],
   "source": [
    "## Analise 1"
   ]
  },
  {
   "cell_type": "code",
   "execution_count": null,
   "id": "e2208535",
   "metadata": {},
   "outputs": [],
   "source": [
    "## Analise 2"
   ]
  },
  {
   "cell_type": "code",
   "execution_count": null,
   "id": "e68d34bd",
   "metadata": {},
   "outputs": [],
   "source": [
    "## Analise 3"
   ]
  },
  {
   "cell_type": "markdown",
   "id": "29ecc8f5",
   "metadata": {},
   "source": [
    "# Exercício 2\n",
    "\n",
    "O dataset Penguins contém informações sobre diferentes Pinguins:\n",
    "* species: nome da espécie.\n",
    "* island: ilha da coleta do dado.\n",
    "* bill_length_mm: comprimento do bico\n",
    "* bill_depth_mm: profundidade do bico\n",
    "* flipper_length_mm: comprimento da nadadeira\n",
    "* body_mass_g: peso corporal\n",
    "* sex: sexo\n",
    "\n",
    "\n",
    "Faça as análises a seguir utilizando as informações (bill_length_mm, bill_depth_mm, flipper_length_mm, body_mass_g):\n",
    "\n",
    "\n",
    "1. Calcule a média e variância de cada uma das informações.\n",
    "2. Crie um data frame contendo as colunas normalizadas por Z-score. Dica: utilize apply aplicado as colunas (axis=0).\n",
    "3. Calcule a média, variância, máximo e mínimo de cada uma das informações normalizadas por sexo."
   ]
  },
  {
   "cell_type": "code",
   "execution_count": null,
   "id": "1460b93d",
   "metadata": {},
   "outputs": [],
   "source": [
    "df = sns.load_dataset('penguins')"
   ]
  },
  {
   "cell_type": "code",
   "execution_count": null,
   "id": "c76b5e68",
   "metadata": {},
   "outputs": [],
   "source": [
    "columns = ['bill_length_mm', 'bill_depth_mm', 'flipper_length_mm', 'body_mass_g', 'sex']\n",
    "\n",
    "df = df[columns]"
   ]
  },
  {
   "cell_type": "code",
   "execution_count": null,
   "id": "4acdc39d",
   "metadata": {},
   "outputs": [],
   "source": [
    "## Analise 1"
   ]
  },
  {
   "cell_type": "code",
   "execution_count": null,
   "id": "95427e34",
   "metadata": {},
   "outputs": [],
   "source": [
    "## Analise 2"
   ]
  },
  {
   "cell_type": "code",
   "execution_count": null,
   "id": "0c426c1d",
   "metadata": {},
   "outputs": [],
   "source": [
    "## Analise 3"
   ]
  }
 ],
 "metadata": {
  "kernelspec": {
   "display_name": "Python 3 (ipykernel)",
   "language": "python",
   "name": "python3"
  },
  "language_info": {
   "codemirror_mode": {
    "name": "ipython",
    "version": 3
   },
   "file_extension": ".py",
   "mimetype": "text/x-python",
   "name": "python",
   "nbconvert_exporter": "python",
   "pygments_lexer": "ipython3",
   "version": "3.10.8"
  }
 },
 "nbformat": 4,
 "nbformat_minor": 5
}
