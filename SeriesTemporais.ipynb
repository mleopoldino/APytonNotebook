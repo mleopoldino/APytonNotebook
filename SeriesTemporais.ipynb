{
  "nbformat": 4,
  "nbformat_minor": 0,
  "metadata": {
    "colab": {
      "provenance": []
    },
    "kernelspec": {
      "name": "python3",
      "display_name": "Python 3"
    },
    "language_info": {
      "name": "python"
    }
  },
  "cells": [
    {
      "cell_type": "code",
      "execution_count": null,
      "metadata": {
        "id": "7d23k2XgQp6r"
      },
      "outputs": [],
      "source": [
        "import pandas as pd\n",
        "import numpy as np\n",
        "\n",
        "from datetime import datetime"
      ]
    },
    {
      "cell_type": "code",
      "source": [
        "date = np.array('2023-05-01', dtype=np.datetime64)\n",
        "date"
      ],
      "metadata": {
        "colab": {
          "base_uri": "https://localhost:8080/"
        },
        "id": "Re7r0Jy_ykJQ",
        "outputId": "459d4e71-bf0e-4637-f8bb-6cb334829ad4"
      },
      "execution_count": null,
      "outputs": [
        {
          "output_type": "execute_result",
          "data": {
            "text/plain": [
              "array('2023-05-01', dtype='datetime64[D]')"
            ]
          },
          "metadata": {},
          "execution_count": 2
        }
      ]
    },
    {
      "cell_type": "code",
      "source": [
        "date + np.arange(12)"
      ],
      "metadata": {
        "colab": {
          "base_uri": "https://localhost:8080/"
        },
        "id": "bkIpvCqSyvfS",
        "outputId": "58df1640-57cf-4619-a62d-1bca4ece4519"
      },
      "execution_count": null,
      "outputs": [
        {
          "output_type": "execute_result",
          "data": {
            "text/plain": [
              "array(['2023-05-01', '2023-05-02', '2023-05-03', '2023-05-04',\n",
              "       '2023-05-05', '2023-05-06', '2023-05-07', '2023-05-08',\n",
              "       '2023-05-09', '2023-05-10', '2023-05-11', '2023-05-12'],\n",
              "      dtype='datetime64[D]')"
            ]
          },
          "metadata": {},
          "execution_count": 3
        }
      ]
    },
    {
      "cell_type": "code",
      "source": [
        "date = pd.to_datetime('2023-05-01')\n",
        "date"
      ],
      "metadata": {
        "colab": {
          "base_uri": "https://localhost:8080/"
        },
        "id": "ybtUsir8yzcp",
        "outputId": "f5ec5871-dcc1-409e-8deb-ae966098f121"
      },
      "execution_count": null,
      "outputs": [
        {
          "output_type": "execute_result",
          "data": {
            "text/plain": [
              "Timestamp('2023-05-01 00:00:00')"
            ]
          },
          "metadata": {},
          "execution_count": 4
        }
      ]
    },
    {
      "cell_type": "code",
      "source": [
        "date = pd.to_datetime('1st of may, 2023')\n",
        "date"
      ],
      "metadata": {
        "colab": {
          "base_uri": "https://localhost:8080/"
        },
        "id": "sH4lpIRly22h",
        "outputId": "361e43fd-e908-435b-f910-20f277e3603a"
      },
      "execution_count": null,
      "outputs": [
        {
          "output_type": "execute_result",
          "data": {
            "text/plain": [
              "Timestamp('2023-05-01 00:00:00')"
            ]
          },
          "metadata": {},
          "execution_count": 5
        }
      ]
    },
    {
      "cell_type": "code",
      "source": [
        "date + pd.to_timedelta(np.arange(12), 'D')"
      ],
      "metadata": {
        "colab": {
          "base_uri": "https://localhost:8080/"
        },
        "id": "NyKHPP8fy65Z",
        "outputId": "14f56a9c-e142-47a9-c6c9-0c59a74c0ed8"
      },
      "execution_count": null,
      "outputs": [
        {
          "output_type": "execute_result",
          "data": {
            "text/plain": [
              "DatetimeIndex(['2023-05-01', '2023-05-02', '2023-05-03', '2023-05-04',\n",
              "               '2023-05-05', '2023-05-06', '2023-05-07', '2023-05-08',\n",
              "               '2023-05-09', '2023-05-10', '2023-05-11', '2023-05-12'],\n",
              "              dtype='datetime64[ns]', freq=None)"
            ]
          },
          "metadata": {},
          "execution_count": 6
        }
      ]
    },
    {
      "cell_type": "code",
      "source": [
        "index = pd.DatetimeIndex(['2022-01-05', '2022-06-05', '2023-01-05', '2023-06-05'])\n",
        "data = pd.Series([0, 1, 2, 3], index=index)\n",
        "data"
      ],
      "metadata": {
        "colab": {
          "base_uri": "https://localhost:8080/"
        },
        "id": "zupLNUu-zOp1",
        "outputId": "3dc39aad-a16a-426d-d502-f6a862e3983c"
      },
      "execution_count": null,
      "outputs": [
        {
          "output_type": "execute_result",
          "data": {
            "text/plain": [
              "2022-01-05    0\n",
              "2022-06-05    1\n",
              "2023-01-05    2\n",
              "2023-06-05    3\n",
              "dtype: int64"
            ]
          },
          "metadata": {},
          "execution_count": 7
        }
      ]
    },
    {
      "cell_type": "code",
      "source": [
        "data['2023']"
      ],
      "metadata": {
        "colab": {
          "base_uri": "https://localhost:8080/"
        },
        "id": "Bi07wDB_zc0K",
        "outputId": "b9205dd6-4734-4c23-aae6-7707a9d3a2a7"
      },
      "execution_count": null,
      "outputs": [
        {
          "output_type": "execute_result",
          "data": {
            "text/plain": [
              "2023-01-05    2\n",
              "2023-06-05    3\n",
              "dtype: int64"
            ]
          },
          "metadata": {},
          "execution_count": 8
        }
      ]
    },
    {
      "cell_type": "code",
      "source": [
        "dates = pd.to_datetime([datetime(2022, 7, 3), '7th of September, 2022',\n",
        "'2021-Jul-6', '07-07-2022', '20150708'])\n",
        "dates"
      ],
      "metadata": {
        "colab": {
          "base_uri": "https://localhost:8080/"
        },
        "id": "37hu0ud92HZQ",
        "outputId": "fbc564ec-e92b-4ee9-bb3d-672272b58988"
      },
      "execution_count": null,
      "outputs": [
        {
          "output_type": "execute_result",
          "data": {
            "text/plain": [
              "DatetimeIndex(['2022-07-03', '2022-09-07', '2021-07-06', '2022-07-07',\n",
              "               '2015-07-08'],\n",
              "              dtype='datetime64[ns]', freq=None)"
            ]
          },
          "metadata": {},
          "execution_count": 10
        }
      ]
    },
    {
      "cell_type": "code",
      "source": [
        "dates.to_period('D')"
      ],
      "metadata": {
        "colab": {
          "base_uri": "https://localhost:8080/"
        },
        "id": "IoNlYSt72TxW",
        "outputId": "1f5d89eb-8e42-435a-ec16-79bec3951275"
      },
      "execution_count": null,
      "outputs": [
        {
          "output_type": "execute_result",
          "data": {
            "text/plain": [
              "PeriodIndex(['2022-07-03', '2022-09-07', '2021-07-06', '2022-07-07',\n",
              "             '2015-07-08'],\n",
              "            dtype='period[D]')"
            ]
          },
          "metadata": {},
          "execution_count": 11
        }
      ]
    },
    {
      "cell_type": "code",
      "source": [
        "dates - dates[0]"
      ],
      "metadata": {
        "colab": {
          "base_uri": "https://localhost:8080/"
        },
        "id": "q9aSVcCY2WWu",
        "outputId": "65d9e439-dde0-405b-9a0a-44e0e79f299f"
      },
      "execution_count": null,
      "outputs": [
        {
          "output_type": "execute_result",
          "data": {
            "text/plain": [
              "TimedeltaIndex(['0 days', '66 days', '-362 days', '4 days', '-2552 days'], dtype='timedelta64[ns]', freq=None)"
            ]
          },
          "metadata": {},
          "execution_count": 13
        }
      ]
    },
    {
      "cell_type": "code",
      "source": [
        "pd.date_range('2023-01-01', '2023-01-07')"
      ],
      "metadata": {
        "colab": {
          "base_uri": "https://localhost:8080/"
        },
        "id": "Ir6fRkAW2l0m",
        "outputId": "308f12d9-0591-4f6d-920d-14205917d0f4"
      },
      "execution_count": null,
      "outputs": [
        {
          "output_type": "execute_result",
          "data": {
            "text/plain": [
              "DatetimeIndex(['2023-01-01', '2023-01-02', '2023-01-03', '2023-01-04',\n",
              "               '2023-01-05', '2023-01-06', '2023-01-07'],\n",
              "              dtype='datetime64[ns]', freq='D')"
            ]
          },
          "metadata": {},
          "execution_count": 14
        }
      ]
    },
    {
      "cell_type": "code",
      "source": [
        "pd.date_range('2023-01-01', periods=8)"
      ],
      "metadata": {
        "colab": {
          "base_uri": "https://localhost:8080/"
        },
        "id": "qHUNUKTN2sXQ",
        "outputId": "b6cfc348-3ee8-4951-cc68-5e77a6628af2"
      },
      "execution_count": null,
      "outputs": [
        {
          "output_type": "execute_result",
          "data": {
            "text/plain": [
              "DatetimeIndex(['2023-01-01', '2023-01-02', '2023-01-03', '2023-01-04',\n",
              "               '2023-01-05', '2023-01-06', '2023-01-07', '2023-01-08'],\n",
              "              dtype='datetime64[ns]', freq='D')"
            ]
          },
          "metadata": {},
          "execution_count": 15
        }
      ]
    },
    {
      "cell_type": "code",
      "source": [
        "pd.date_range('2023-01-01', periods=8, freq='H')"
      ],
      "metadata": {
        "colab": {
          "base_uri": "https://localhost:8080/"
        },
        "id": "y9g6u7GN2u2o",
        "outputId": "75abe546-15d3-49a5-9380-897dc78893b3"
      },
      "execution_count": null,
      "outputs": [
        {
          "output_type": "execute_result",
          "data": {
            "text/plain": [
              "DatetimeIndex(['2023-01-01 00:00:00', '2023-01-01 01:00:00',\n",
              "               '2023-01-01 02:00:00', '2023-01-01 03:00:00',\n",
              "               '2023-01-01 04:00:00', '2023-01-01 05:00:00',\n",
              "               '2023-01-01 06:00:00', '2023-01-01 07:00:00'],\n",
              "              dtype='datetime64[ns]', freq='H')"
            ]
          },
          "metadata": {},
          "execution_count": 16
        }
      ]
    },
    {
      "cell_type": "code",
      "source": [
        "pd.period_range('2023-01', periods=8, freq='M')"
      ],
      "metadata": {
        "colab": {
          "base_uri": "https://localhost:8080/"
        },
        "id": "i60nsVWx25zQ",
        "outputId": "369edd70-b7cf-48f9-d2a4-4a8904a1fcd6"
      },
      "execution_count": null,
      "outputs": [
        {
          "output_type": "execute_result",
          "data": {
            "text/plain": [
              "PeriodIndex(['2023-01', '2023-02', '2023-03', '2023-04', '2023-05', '2023-06',\n",
              "             '2023-07', '2023-08'],\n",
              "            dtype='period[M]')"
            ]
          },
          "metadata": {},
          "execution_count": 17
        }
      ]
    },
    {
      "cell_type": "code",
      "source": [
        "pd.timedelta_range(0, periods=23, freq='H')"
      ],
      "metadata": {
        "colab": {
          "base_uri": "https://localhost:8080/"
        },
        "id": "FpgNTgY-3Gu4",
        "outputId": "bf8e8056-72cf-461b-92f9-34532d159683"
      },
      "execution_count": null,
      "outputs": [
        {
          "output_type": "execute_result",
          "data": {
            "text/plain": [
              "TimedeltaIndex(['0 days 00:00:00', '0 days 01:00:00', '0 days 02:00:00',\n",
              "                '0 days 03:00:00', '0 days 04:00:00', '0 days 05:00:00',\n",
              "                '0 days 06:00:00', '0 days 07:00:00', '0 days 08:00:00',\n",
              "                '0 days 09:00:00', '0 days 10:00:00', '0 days 11:00:00',\n",
              "                '0 days 12:00:00', '0 days 13:00:00', '0 days 14:00:00',\n",
              "                '0 days 15:00:00', '0 days 16:00:00', '0 days 17:00:00',\n",
              "                '0 days 18:00:00', '0 days 19:00:00', '0 days 20:00:00',\n",
              "                '0 days 21:00:00', '0 days 22:00:00'],\n",
              "               dtype='timedelta64[ns]', freq='H')"
            ]
          },
          "metadata": {},
          "execution_count": 18
        }
      ]
    },
    {
      "cell_type": "markdown",
      "source": [
        "## Resampling\n",
        "\n",
        "Frequência Pandas\n",
        "\n",
        "|Código|Descrição|\n",
        "|-----|-------|\n",
        "|D|Dia do calendario|\n",
        "|W|Semanal|\n",
        "|M|Fim do mês|\n",
        "|Q|Fim do quarter|\n",
        "|A|Fim do ano|\n",
        "|H|Horas|\n",
        "|T|Minutos|\n",
        "|S|Segundos|\n",
        "|B|Dia comercial|\n",
        "|BM|Fim do mês comercial|\n",
        "|BQ|Fim do quarter comercial|\n",
        "|BA|Fim do ano comercial|"
      ],
      "metadata": {
        "id": "dzk1AEPO3N0R"
      }
    },
    {
      "cell_type": "code",
      "source": [
        "pd.timedelta_range(0, periods=9, freq=\"2H30T\") #2 horas e 30 minutos"
      ],
      "metadata": {
        "colab": {
          "base_uri": "https://localhost:8080/"
        },
        "id": "DxQk_D0i3Nbq",
        "outputId": "c114eb98-df84-4a56-ebf7-c9836610219a"
      },
      "execution_count": null,
      "outputs": [
        {
          "output_type": "execute_result",
          "data": {
            "text/plain": [
              "TimedeltaIndex(['0 days 00:00:00', '0 days 02:30:00', '0 days 05:00:00',\n",
              "                '0 days 07:30:00', '0 days 10:00:00', '0 days 12:30:00',\n",
              "                '0 days 15:00:00', '0 days 17:30:00', '0 days 20:00:00'],\n",
              "               dtype='timedelta64[ns]', freq='150T')"
            ]
          },
          "metadata": {},
          "execution_count": 19
        }
      ]
    }
  ]
}