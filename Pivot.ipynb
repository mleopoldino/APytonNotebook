{
  "nbformat": 4,
  "nbformat_minor": 0,
  "metadata": {
    "colab": {
      "provenance": []
    },
    "kernelspec": {
      "name": "python3",
      "display_name": "Python 3"
    },
    "language_info": {
      "name": "python"
    }
  },
  "cells": [
    {
      "cell_type": "markdown",
      "source": [
        "# Pivot table"
      ],
      "metadata": {
        "id": "zfKQX6spSuGI"
      }
    },
    {
      "cell_type": "code",
      "source": [
        "import numpy as np\n",
        "import pandas as pd\n",
        "import seaborn as sns\n",
        "titanic = sns.load_dataset('titanic')"
      ],
      "metadata": {
        "id": "61dshng5Mipv"
      },
      "execution_count": null,
      "outputs": []
    },
    {
      "cell_type": "code",
      "source": [
        "titanic.head()"
      ],
      "metadata": {
        "id": "kOwf457AM7KD"
      },
      "execution_count": null,
      "outputs": []
    },
    {
      "cell_type": "code",
      "source": [
        "titanic.groupby('sex')[['survived']].mean()"
      ],
      "metadata": {
        "id": "JeSV1T0eNCTk"
      },
      "execution_count": null,
      "outputs": []
    },
    {
      "cell_type": "code",
      "source": [
        "titanic.groupby(['sex', 'class'])['survived'].aggregate('mean').unstack()"
      ],
      "metadata": {
        "id": "SQ0x8PT6NFro"
      },
      "execution_count": null,
      "outputs": []
    },
    {
      "cell_type": "code",
      "source": [
        "titanic.pivot_table('survived', index='sex', columns='class')"
      ],
      "metadata": {
        "id": "SOJaAjV9NLPM"
      },
      "execution_count": null,
      "outputs": []
    },
    {
      "cell_type": "code",
      "source": [
        "age = pd.cut(titanic['age'], [0, 18, 80])\n",
        "titanic.pivot_table('survived', ['sex', age], 'class')"
      ],
      "metadata": {
        "id": "0TmSkyxdNO1c"
      },
      "execution_count": null,
      "outputs": []
    },
    {
      "cell_type": "code",
      "source": [
        "fare = pd.qcut(titanic['fare'], 2)\n",
        "titanic.pivot_table('survived', ['sex', age], [fare, 'class'])"
      ],
      "metadata": {
        "id": "3fmPGYoFNebh"
      },
      "execution_count": null,
      "outputs": []
    },
    {
      "cell_type": "code",
      "source": [
        "df_pivot = titanic.pivot_table('survived', ['sex', age], ['who', 'class'])\n",
        "df_pivot"
      ],
      "metadata": {
        "id": "fPDWNnMDNpBt"
      },
      "execution_count": null,
      "outputs": []
    },
    {
      "cell_type": "code",
      "source": [
        "df_pivot['child', 'First']"
      ],
      "metadata": {
        "id": "q0yVO1ARN7iE"
      },
      "execution_count": null,
      "outputs": []
    },
    {
      "cell_type": "code",
      "source": [
        "df_pivot['child']"
      ],
      "metadata": {
        "id": "b83rQdk2OAa9"
      },
      "execution_count": null,
      "outputs": []
    },
    {
      "cell_type": "code",
      "source": [
        "titanic.pivot_table(index='sex', columns='class', aggfunc={'survived':sum, 'fare':'mean'})"
      ],
      "metadata": {
        "id": "UHfaJRWZOSsh"
      },
      "execution_count": null,
      "outputs": []
    },
    {
      "cell_type": "code",
      "source": [
        "titanic.pivot(index='sex', columns='class', values='survived')"
      ],
      "metadata": {
        "id": "fEj5Uo_ZO-Pj"
      },
      "execution_count": null,
      "outputs": []
    },
    {
      "cell_type": "markdown",
      "source": [
        "# Wide to long\n",
        "\n",
        "Também conhecido como melt ou unmelt"
      ],
      "metadata": {
        "id": "kxqAMVC8O_hS"
      }
    },
    {
      "cell_type": "code",
      "source": [
        "df = pd.DataFrame({'col_1': ['A'] * 3 + ['B']*3,\n",
        "                   'col_2': ['Primeiro', 'Segundo', 'Terceiro'] * 2,\n",
        "                   'col_3': [1, 2, 3, 4, 5, 6]})"
      ],
      "metadata": {
        "id": "tMgEU2VmOXd2"
      },
      "execution_count": null,
      "outputs": []
    },
    {
      "cell_type": "code",
      "source": [
        "df_wide = df.pivot(index='col_1', columns= 'col_2', values='col_3')\n",
        "df_wide"
      ],
      "metadata": {
        "id": "579UQPLSOrte"
      },
      "execution_count": null,
      "outputs": []
    },
    {
      "cell_type": "code",
      "source": [
        "df_long = df_wide.reset_index().melt(id_vars='col_1', value_vars=['Primeiro', 'Segundo', 'Terceiro'])\n",
        "df_long"
      ],
      "metadata": {
        "id": "tZT1fa-IPQ83"
      },
      "execution_count": null,
      "outputs": []
    },
    {
      "cell_type": "code",
      "source": [
        "df_wide = pd.DataFrame({'col_1': ['A', 'B'],\n",
        "                        'Primeiro': [1, 4],\n",
        "                        'Segundo': [2, 5],\n",
        "                        'Terceiro': [3, 6]})\n",
        "\n",
        "df_wide.melt(id_vars='col_1', value_vars=['Primeiro', 'Segundo', 'Terceiro'])"
      ],
      "metadata": {
        "id": "QX7wlEWROsr1"
      },
      "execution_count": null,
      "outputs": []
    },
    {
      "cell_type": "code",
      "source": [
        "df_wide.melt(id_vars='col_1', value_vars=['Primeiro', 'Segundo', 'Terceiro'], ignore_index=False)"
      ],
      "metadata": {
        "id": "OI1Bf3RGQohG"
      },
      "execution_count": null,
      "outputs": []
    }
  ]
}